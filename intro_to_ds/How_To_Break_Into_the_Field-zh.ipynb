{
 "cells": [
  {
   "cell_type": "markdown",
   "metadata": {},
   "source": [
    "### 关于新手入门的建议\n",
    "\n",
    "现在你对数据有了更深入的了解，并且知道我是如何探索“如何入门技术领域”这个问题的。现在轮到你自己动手来回答下面的问题了。"
   ]
  },
  {
   "cell_type": "code",
   "execution_count": null,
   "metadata": {},
   "outputs": [],
   "source": [
    "import numpy as np\n",
    "import pandas as pd\n",
    "import matplotlib.pyplot as plt\n",
    "import seaborn as sns\n",
    "import HowToBreakIntoTheField as t\n",
    "%matplotlib inline\n",
    "\n",
    "df = pd.read_csv('./survey_results_public.csv')\n",
    "schema = pd.read_csv('./survey_results_schema.csv')\n",
    "df.head()"
   ]
  },
  {
   "cell_type": "markdown",
   "metadata": {},
   "source": [
    "#### Question 1\n",
    "\n",
    "**1.** 为了理解如何入门技术领域这个问题，需要先理解 **CousinEducation** 特征列。使用 **schema** 数据集来回答这一问题，完成这个名为 **get_description** 的函数，该函数的参数为 **schema** 数据集和 **column_name** 列名，返回的是该列的具体描述。 "
   ]
  },
  {
   "cell_type": "code",
   "execution_count": null,
   "metadata": {},
   "outputs": [],
   "source": [
    "def get_description(column_name, schema=schema):\n",
    "    '''\n",
    "    INPUT - schema - pandas dataframe with the schema of the developers survey\n",
    "            column_name - string - the name of the column you would like to know about\n",
    "    OUTPUT - \n",
    "            desc - string - the description of the column\n",
    "    '''\n",
    "    desc = \n",
    "    return desc\n",
    "\n",
    "#test your code\n",
    "#Check your function against solution - you shouldn't need to change any of the below code\n",
    "get_description(df.columns[0]) # This should return a string of the first column description"
   ]
  },
  {
   "cell_type": "code",
   "execution_count": null,
   "metadata": {},
   "outputs": [],
   "source": [
    "#Check your function against solution - you shouldn't need to change any of the below code\n",
    "descrips = set(get_description(col) for col in df.columns)\n",
    "t.check_description(descrips)"
   ]
  },
  {
   "cell_type": "markdown",
   "metadata": {},
   "source": [
    "我们想要探索的问题是如何入门技术领域，所以要使用 **get_description** 函数查看 **CousinEducation** 特征列的具体描述。"
   ]
  },
  {
   "cell_type": "code",
   "execution_count": null,
   "metadata": {},
   "outputs": [],
   "source": [
    "get_description('CousinEducation')"
   ]
  },
  {
   "cell_type": "markdown",
   "metadata": {},
   "source": [
    "#### Question 2\n",
    "\n",
    "**2.** 给出 **CousinEducation** 列中每种类别的数量，返回的数据类型是 Pandas Series。将返回的 Series 存储在 **cous_ed_vals** 变量中。如果你的回答是正确的，那应该能看到一个类别分布的柱状图。如果结果看上去不太好，从中得不到任何有用的信息，那就要仔细看一下注释，别忘了清理数据！"
   ]
  },
  {
   "cell_type": "code",
   "execution_count": null,
   "metadata": {},
   "outputs": [],
   "source": [
    "cous_ed_vals = #Provide a pandas series of the counts for each CousinEducation status\n",
    "\n",
    "cous_ed_vals # assure this looks right"
   ]
  },
  {
   "cell_type": "code",
   "execution_count": null,
   "metadata": {},
   "outputs": [],
   "source": [
    "# The below should be a bar chart of the proportion of individuals in your ed_vals\n",
    "# if it is set up correctly.\n",
    "\n",
    "(cous_ed_vals/df.shape[0]).plot(kind=\"bar\");\n",
    "plt.title(\"Formal Education\");"
   ]
  },
  {
   "cell_type": "markdown",
   "metadata": {},
   "source": [
    "一定要对数据进行清理，上面就是没有对数据进行清理的结果。下面我使用的代码跟之前视频里的代码一样，前提是数据已经被清理过了。"
   ]
  },
  {
   "cell_type": "code",
   "execution_count": null,
   "metadata": {},
   "outputs": [],
   "source": [
    "possible_vals = [\"Take online courses\", \"Buy books and work through the exercises\", \n",
    "                 \"None of these\", \"Part-time/evening courses\", \"Return to college\",\n",
    "                 \"Contribute to open source\", \"Conferences/meet-ups\", \"Bootcamp\",\n",
    "                 \"Get a job as a QA tester\", \"Participate in online coding competitions\",\n",
    "                 \"Master's degree\", \"Participate in hackathons\", \"Other\"]\n",
    "\n",
    "def clean_and_plot(df, title='Method of Educating Suggested', plot=True):\n",
    "    '''\n",
    "    INPUT \n",
    "        df - a dataframe holding the CousinEducation column\n",
    "        title - string the title of your plot\n",
    "        axis - axis object\n",
    "        plot - bool providing whether or not you want a plot back\n",
    "        \n",
    "    OUTPUT\n",
    "        study_df - a dataframe with the count of how many individuals\n",
    "        Displays a plot of pretty things related to the CousinEducation column.\n",
    "    '''\n",
    "    study = df['CousinEducation'].value_counts().reset_index()\n",
    "    study.rename(columns={'index': 'method', 'CousinEducation': 'count'}, inplace=True)\n",
    "    study_df = t.total_count(study, 'method', 'count', possible_vals)\n",
    "\n",
    "    study_df.set_index('method', inplace=True)\n",
    "    if plot:\n",
    "        (study_df/study_df.sum()).plot(kind='bar', legend=None);\n",
    "        plt.title(title);\n",
    "        plt.show()\n",
    "    props_study_df = study_df/study_df.sum()\n",
    "    return props_study_df\n",
    "    \n",
    "props_df = clean_and_plot(df)"
   ]
  },
  {
   "cell_type": "markdown",
   "metadata": {},
   "source": [
    "#### Question 3\n",
    "\n",
    "**3.** 有学位的人会不会更会推荐他人去获取学位呢？完成下面的函数，该函数的参数是 **df** 中 **FormalEducation** 列的每个元素项（也就是对 **FormalEducation** 列 apply 该函数）。 "
   ]
  },
  {
   "cell_type": "code",
   "execution_count": null,
   "metadata": {},
   "outputs": [],
   "source": [
    "def higher_ed(formal_ed_str):\n",
    "    '''\n",
    "    INPUT\n",
    "        formal_ed_str - a string of one of the values from the Formal Education column\n",
    "    \n",
    "    OUTPUT\n",
    "        return 1 if the string is  in (\"Master's degree\", \"Doctoral\", \"Professional degree\")\n",
    "        return 0 otherwise\n",
    "    \n",
    "    '''\n",
    "    \n",
    "\n",
    "df[\"FormalEducation\"].apply(higher_ed)[:5] #Test your function to assure it provides 1 and 0 values for the df"
   ]
  },
  {
   "cell_type": "code",
   "execution_count": null,
   "metadata": {},
   "outputs": [],
   "source": [
    "# Check your code here\n",
    "df['HigherEd'] = df[\"FormalEducation\"].apply(higher_ed)\n",
    "higher_ed_perc = df['HigherEd'].mean()\n",
    "t.higher_ed_test(higher_ed_perc)"
   ]
  },
  {
   "cell_type": "markdown",
   "metadata": {},
   "source": [
    "#### Question 4\n",
    "\n",
    "**4.** 现在来看一下有学位的人跟没学位的人相比，会不会更倾向于推荐新手攻读学位。将数据中 **HigherEd** 等于 1 的部分存储在 **ed_1** 变量中；将数据中 **HigherEd** 等于 0 的部分存储在 **ed_0** 变量中。\n",
    "\n",
    "需要注意的是，你已经在上面创建 **HigherEd** 列了，现在需要做的只是在这一列上进行数据筛选。"
   ]
  },
  {
   "cell_type": "code",
   "execution_count": null,
   "metadata": {},
   "outputs": [],
   "source": [
    "ed_1 = # Subset df to only those with HigherEd of 1\n",
    "ed_0 = # Subset df to only those with HigherEd of 0\n",
    "\n",
    "\n",
    "print(ed_1['HigherEd'][:5]) #Assure it looks like what you would expect\n",
    "print(ed_0['HigherEd'][:5]) #Assure it looks like what you would expect"
   ]
  },
  {
   "cell_type": "code",
   "execution_count": null,
   "metadata": {},
   "outputs": [],
   "source": [
    "#Check your subset is correct - you should get a plot that was created using pandas styling\n",
    "#which you can learn more about here: https://pandas.pydata.org/pandas-docs/stable/style.html\n",
    "\n",
    "ed_1_perc = clean_and_plot(ed_1, 'Higher Formal Education', plot=False)\n",
    "ed_0_perc = clean_and_plot(ed_0, 'Max of Bachelors Higher Ed', plot=False)\n",
    "\n",
    "comp_df = pd.merge(ed_1_perc, ed_0_perc, left_index=True, right_index=True)\n",
    "comp_df.columns = ['ed_1_perc', 'ed_0_perc']\n",
    "comp_df['Diff_HigherEd_Vals'] = comp_df['ed_1_perc'] - comp_df['ed_0_perc']\n",
    "comp_df.style.bar(subset=['Diff_HigherEd_Vals'], align='mid', color=['#d65f5f', '#5fba7d'])"
   ]
  },
  {
   "cell_type": "markdown",
   "metadata": {},
   "source": [
    "#### Question 5\n",
    "\n",
    "**5.** 上面的图表展现了什么信息？下列字典中的陈述，对于上面图表可以得出的结论，将其对应的值修改为 **True**，不能得出的结论则保留原来的 **False**。"
   ]
  },
  {
   "cell_type": "code",
   "execution_count": null,
   "metadata": {},
   "outputs": [],
   "source": [
    "sol = {'Everyone should get a higher level of formal education': False, \n",
    "       'Regardless of formal education, online courses are the top suggested form of education': False,\n",
    "       'There is less than a 1% difference between suggestions of the two groups for all forms of education': False,\n",
    "       'Those with higher formal education suggest it more than those who do not have it': False}\n",
    "\n",
    "t.conclusions(sol)"
   ]
  },
  {
   "cell_type": "markdown",
   "metadata": {},
   "source": [
    "这就从另一种角度对比了从业者对教育方式的建议。"
   ]
  },
  {
   "cell_type": "code",
   "execution_count": null,
   "metadata": {},
   "outputs": [],
   "source": []
  }
 ],
 "metadata": {
  "kernelspec": {
   "display_name": "Python 3",
   "language": "python",
   "name": "python3"
  },
  "language_info": {
   "codemirror_mode": {
    "name": "ipython",
    "version": 3
   },
   "file_extension": ".py",
   "mimetype": "text/x-python",
   "name": "python",
   "nbconvert_exporter": "python",
   "pygments_lexer": "ipython3",
   "version": "3.6.3"
  }
 },
 "nbformat": 4,
 "nbformat_minor": 2
}
