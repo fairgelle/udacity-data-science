{
 "cells": [
  {
   "cell_type": "markdown",
   "metadata": {},
   "source": [
    "\n",
    "### 填充缺失值\n",
    "\n",
    "处理缺失值的最常见方法之一是填充缺失值，填充就是将某个值输入到缺失位置。\n",
    "\n",
    "以下是几种常见的填充缺失值方法：\n",
    "\n",
    "1. 用 **mean**（均值）来填充。<br><br>\n",
    "\n",
    "2. 如果要处理的分类变量或具有异常值的变量，那就用 **mode**（众数）来填充。<br><br>\n",
    "\n",
    "3. 用 0、非常小的值、或者非常大的值来填充，使缺失值和其他值可以很好地区分。<br><br>\n",
    "\n",
    "4. 使用 KNN（K 近邻算法），根据最相似的特征来填充缺失值。<br><br>\n",
    "\n",
    "通常，在处理缺失值之前，你应该非常谨慎，了解数据的现实意义以及出现缺失值的原因。同时，这些解决方案都非常快，可以使你能够建立模型，之后你可以对特征工程进行迭代，在时间允许的情况下，采用更谨慎的方案。\n",
    "\n",
    "我们来看一下具体怎样实现。Chris 写的文档对这些内容也很有帮助 — 你可以在[这里](https://chrisalbon.com/)找到。他用的是 [sklearn.preprocessing 库](http://scikit-learn.org/stable/modules/preprocessing.html)。Pandas 里也有很多填充缺失值的方法，你可以在[这里](https://pandas.pydata.org/pandas-docs/stable/generated/pandas.DataFrame.fillna.html)找到。\n",
    "\n",
    "运行下面的单元格，创建你即将在此 Notebook 中使用的数据集。\n"
   ]
  },
  {
   "cell_type": "code",
   "execution_count": null,
   "metadata": {},
   "outputs": [],
   "source": [
    "import pandas as pd\n",
    "import numpy as np\n",
    "import ImputationMethods as t\n",
    "\n",
    "df = pd.DataFrame({'A':[np.nan, 2, np.nan, 0, 7, 10, 15],\n",
    "                   'B':[3, 4, 5, 1, 2, 3, 5],\n",
    "                   'C':[np.nan, np.nan, np.nan, np.nan, np.nan, np.nan, np.nan],\n",
    "                   'D':[np.nan, True, np.nan, False, True, False, np.nan],\n",
    "                   'E':['Yes', 'No', 'Maybe', np.nan, np.nan, 'Yes', np.nan]})\n",
    "\n",
    "df"
   ]
  },
  {
   "cell_type": "markdown",
   "metadata": {},
   "source": [
    "#### Question 1\n",
    "\n",
    "**1.** 用下面的字典，标注出每列对应的数据类型。"
   ]
  },
  {
   "cell_type": "code",
   "execution_count": null,
   "metadata": {},
   "outputs": [],
   "source": [
    "a = 'categorical'\n",
    "b = 'quantitative'\n",
    "c = 'we cannot tell'\n",
    "d = 'boolean - can treat either way'\n",
    "\n",
    "question1_solution = {'Column A is': #letter here,\n",
    "                      'Column B is': #letter here,\n",
    "                      'Column C is': #letter here,\n",
    "                      'Column D is': #letter here,\n",
    "                      'Column E is': #letter here\n",
    "                     }\n",
    "\n",
    "# Check your answer\n",
    "t.var_test(question1_solution)"
   ]
  },
  {
   "cell_type": "markdown",
   "metadata": {},
   "source": [
    "#### Question 2\n",
    "\n",
    "**2.** 数据中有没有可以放心删除的行或列？"
   ]
  },
  {
   "cell_type": "code",
   "execution_count": null,
   "metadata": {},
   "outputs": [],
   "source": [
    "a = \"Yes\"\n",
    "b = \"No\"\n",
    "\n",
    "should_we_drop = \n",
    "\n",
    "#Check your answer\n",
    "t.can_we_drop(should_we_drop)"
   ]
  },
  {
   "cell_type": "markdown",
   "metadata": {},
   "source": [
    "如果有需要删除的行或列，将其删除，然后保存新的数据集为 **new_df**。"
   ]
  },
  {
   "cell_type": "code",
   "execution_count": null,
   "metadata": {},
   "outputs": [],
   "source": [
    "# Use this cell to drop any columns or rows you feel comfortable dropping based on the above"
   ]
  },
  {
   "cell_type": "markdown",
   "metadata": {},
   "source": [
    "#### Question 3\n",
    "\n",
    "**3.** 这一练习使用上面创建的 **new_df**。我编写了一个 lambda 函数，用均值填充缺失值，你可以通过 **apply** 方法应用到 **new_df** 的各列。用空白的单元格来解答字典 **impute_q3** 里的问题。"
   ]
  },
  {
   "cell_type": "code",
   "execution_count": null,
   "metadata": {},
   "outputs": [],
   "source": [
    "fill_mean = lambda col: col.fillna(col.mean())\n",
    "\n",
    "try:\n",
    "    new_df.apply(fill_mean, axis=0)\n",
    "except:\n",
    "    print('That broke...')"
   ]
  },
  {
   "cell_type": "code",
   "execution_count": null,
   "metadata": {},
   "outputs": [],
   "source": [
    "# Check what you need to answer the questions below"
   ]
  },
  {
   "cell_type": "code",
   "execution_count": null,
   "metadata": {},
   "outputs": [],
   "source": [
    "a = \"fills with the mean, but that doesn't actually make sense in this case.\"\n",
    "b = \"gives an error.\"\n",
    "c = \"is no problem - it fills the NaN values with the mean as expected.\"\n",
    "\n",
    "\n",
    "impute_q3 = {'Filling column A': #letter here,\n",
    "             'Filling column D': #letter here,\n",
    "             'Filling column E': #letter here    \n",
    "}\n",
    "\n",
    "#Check your answer\n",
    "t.impute_q3_check(impute_q3)"
   ]
  },
  {
   "cell_type": "markdown",
   "metadata": {},
   "source": [
    "#### Question 4\n",
    "\n",
    "**4.** 根据上面的结果，某些列用众数来填充可能更有意义。自己编写一个函数，用众数填充缺失值，并且将其应用到数据集中更应该使用众数来填充缺失值的两列。根据你的发现来回答字典 **impute_q4** 里的几个问题。"
   ]
  },
  {
   "cell_type": "code",
   "execution_count": null,
   "metadata": {},
   "outputs": [],
   "source": [
    "#Similar to the above write a function and apply it to compte the mode for each column\n",
    "#If you get stuck, here is a helpful resource https://stackoverflow.com/questions/42789324/pandas-fillna-mode"
   ]
  },
  {
   "cell_type": "code",
   "execution_count": null,
   "metadata": {},
   "outputs": [],
   "source": [
    "new_df.head()"
   ]
  },
  {
   "cell_type": "code",
   "execution_count": null,
   "metadata": {},
   "outputs": [],
   "source": [
    "a = \"Did not impute the mode.\"\n",
    "b = \"Imputes the mode.\"\n",
    "\n",
    "\n",
    "impute_q4 = {'Filling column A': #letter here,\n",
    "             'Filling column D': #letter here,\n",
    "             'Filling column E': #letter here\n",
    "            }\n",
    "\n",
    "#Check your answer\n",
    "t.impute_q4_check(impute_q4)"
   ]
  },
  {
   "cell_type": "markdown",
   "metadata": {},
   "source": [
    "你在这个 Notebook 中看到了两种填充缺失值的方法，希望你也意识到了这两种方法的局限。再次说明，这些方法可以让你非常快速地建立模型，但是同时也为数据引入了噪音。"
   ]
  },
  {
   "cell_type": "code",
   "execution_count": null,
   "metadata": {},
   "outputs": [],
   "source": []
  }
 ],
 "metadata": {
  "kernelspec": {
   "display_name": "Python 3",
   "language": "python",
   "name": "python3"
  },
  "language_info": {
   "codemirror_mode": {
    "name": "ipython",
    "version": 3
   },
   "file_extension": ".py",
   "mimetype": "text/x-python",
   "name": "python",
   "nbconvert_exporter": "python",
   "pygments_lexer": "ipython3",
   "version": "3.6.3"
  }
 },
 "nbformat": 4,
 "nbformat_minor": 2
}
