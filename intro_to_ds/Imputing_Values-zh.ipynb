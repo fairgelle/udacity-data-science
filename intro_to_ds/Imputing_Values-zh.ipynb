{
 "cells": [
  {
   "cell_type": "markdown",
   "metadata": {},
   "source": [
    "### 预测模型\n",
    "\n",
    "你现在已经有一些处理缺失值的经验，使用过常用方法填充缺失值。现在是时候运用之前学到的知识对包含缺失值的数据集做预测了。\n",
    "\n",
    "首先，还是先导入一些库，并且读入初次尝试的结果。"
   ]
  },
  {
   "cell_type": "code",
   "execution_count": null,
   "metadata": {
    "collapsed": true
   },
   "outputs": [],
   "source": [
    "import numpy as np\n",
    "import pandas as pd\n",
    "import matplotlib.pyplot as plt\n",
    "from sklearn.linear_model import LinearRegression\n",
    "from sklearn.model_selection import train_test_split\n",
    "from sklearn.metrics import r2_score, mean_squared_error\n",
    "import ImputingValues as t\n",
    "import seaborn as sns\n",
    "%matplotlib inline\n",
    "\n",
    "df = pd.read_csv('./survey_results_public.csv')\n",
    "df.head()\n",
    "\n",
    "#Only use quant variables and drop any rows with missing values\n",
    "num_vars = df[['Salary', 'CareerSatisfaction', 'HoursPerWeek', 'JobSatisfaction', 'StackOverflowSatisfaction']]\n",
    "df_dropna = num_vars.dropna(axis=0)\n",
    "\n",
    "#Split into explanatory and response variables\n",
    "X = df_dropna[['CareerSatisfaction', 'HoursPerWeek', 'JobSatisfaction', 'StackOverflowSatisfaction']]\n",
    "y = df_dropna['Salary']\n",
    "\n",
    "#Split into train and test\n",
    "X_train, X_test, y_train, y_test = train_test_split(X, y, test_size = .30, random_state=42) \n",
    "\n",
    "lm_model = LinearRegression(normalize=True) # Instantiate\n",
    "lm_model.fit(X_train, y_train) #Fit\n",
    "        \n",
    "#Predict and score the model\n",
    "y_test_preds = lm_model.predict(X_test) \n",
    "\"The r-squared score for your model was {} on {} values.\".format(r2_score(y_test, y_test_preds), len(y_test))"
   ]
  },
  {
   "cell_type": "markdown",
   "metadata": {},
   "source": [
    "#### Question 1\n",
    "\n",
    "**1.** 你可能还记得在之前的尝试中，真正要预测的工资数量其实比上面代码里显示的要多得多。要对所有这些值进行预测，一种方式是对 X 中缺失的值进行填充，而不是直接删除。\n",
    "\n",
    "把 **num_vars** 中缺失 Salary 的行删除，将得到的数据存储在 **drop_sal_df** 变量中，之后使用均值来填充其他列的缺失值，将结果存在 **fill_df** 中。"
   ]
  },
  {
   "cell_type": "code",
   "execution_count": null,
   "metadata": {
    "collapsed": true
   },
   "outputs": [],
   "source": [
    "drop_sal_df = #Drop the rows with missing salaries\n",
    "\n",
    "# test look\n",
    "drop_sal_df.head()"
   ]
  },
  {
   "cell_type": "code",
   "execution_count": null,
   "metadata": {
    "collapsed": true
   },
   "outputs": [],
   "source": [
    "#Check that you dropped all the rows that have salary missing\n",
    "t.check_sal_dropped(drop_sal_df)"
   ]
  },
  {
   "cell_type": "code",
   "execution_count": null,
   "metadata": {
    "collapsed": true
   },
   "outputs": [],
   "source": [
    "fill_df = #Fill all missing values with the mean of the column.\n",
    "\n",
    "# test look\n",
    "fill_df.head()"
   ]
  },
  {
   "cell_type": "code",
   "execution_count": null,
   "metadata": {
    "collapsed": true
   },
   "outputs": [],
   "source": [
    "#Check your salary dropped, mean imputed datafram matches the solution\n",
    "t.check_fill_df(fill_df)"
   ]
  },
  {
   "cell_type": "markdown",
   "metadata": {},
   "source": [
    "#### Question 2\n",
    "\n",
    "**2.** 利用 **fill_df** 中所有的数值变量对工资进行预测。你可以参考之前的步骤来对模型进行拟合：\n",
    "\n",
    "* 将数据分成解释变量（explanatory，相当于之前的 X 矩阵）和目标变量（response，相当于之前的 y 向量）\n",
    "* 将数据划分成训练集和测试集（将随机种子 random_state 设为 42，将测试集的比例 test_size 设为 0.3）\n",
    "* 实例化你的线性模型，并标准化数据\n",
    "* 用训练集拟合模型\n",
    "* 预测测试集的数据 \n",
    "* 用 R 平方值评估模型的拟合程度，并且展示出预测的样本数量\n",
    "\n",
    "使用下面的 `t.r2_y_test_check` 来检查代码。"
   ]
  },
  {
   "cell_type": "code",
   "execution_count": null,
   "metadata": {
    "collapsed": true
   },
   "outputs": [],
   "source": [
    "#Split into explanatory and response variables\n",
    "\n",
    "#Split into train and test\n",
    "       \n",
    "#Predict and score the model\n",
    "\n",
    "#Rsquared and y_test\n",
    "rsquared_score = #r2_score\n",
    "length_y_test = #num in y_test\n",
    "\n",
    "\"The r-squared score for your model was {} on {} values.\".format(rsquared_score, length_y_test)"
   ]
  },
  {
   "cell_type": "code",
   "execution_count": null,
   "metadata": {
    "collapsed": true
   },
   "outputs": [],
   "source": [
    "# Pass your r2_score, length of y_test to the below to check against the solution\n",
    "t.r2_y_test_check(rsquared_score, length_y_test)"
   ]
  },
  {
   "cell_type": "markdown",
   "metadata": {},
   "source": [
    "这个模型的表现仍然不是很好，我们来看一下能否利用其他的特征来提升模型的表现。"
   ]
  },
  {
   "cell_type": "code",
   "execution_count": null,
   "metadata": {
    "collapsed": true
   },
   "outputs": [],
   "source": []
  }
 ],
 "metadata": {
  "kernelspec": {
   "display_name": "Python 3",
   "language": "python",
   "name": "python3"
  },
  "language_info": {
   "codemirror_mode": {
    "name": "ipython",
    "version": 3
   },
   "file_extension": ".py",
   "mimetype": "text/x-python",
   "name": "python",
   "nbconvert_exporter": "python",
   "pygments_lexer": "ipython3",
   "version": "3.6.3"
  }
 },
 "nbformat": 4,
 "nbformat_minor": 2
}
